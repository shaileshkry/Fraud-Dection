{
 "cells": [
  {
   "cell_type": "code",
   "execution_count": 40,
   "id": "344425d0",
   "metadata": {},
   "outputs": [],
   "source": [
    "import numpy as np\n",
    "import pandas as pd\n",
    "import matplotlib.pyplot as plt\n",
    "import seaborn as sns\n",
    "\n",
    "from sklearn.preprocessing import StandardScaler\n",
    "from sklearn.metrics import mean_squared_error\n",
    "from sklearn.ensemble import RandomForestRegressor,IsolationForest\n"
   ]
  },
  {
   "cell_type": "code",
   "execution_count": 42,
   "id": "e7477ea0",
   "metadata": {},
   "outputs": [
    {
     "data": {
      "text/html": [
       "<div>\n",
       "<style scoped>\n",
       "    .dataframe tbody tr th:only-of-type {\n",
       "        vertical-align: middle;\n",
       "    }\n",
       "\n",
       "    .dataframe tbody tr th {\n",
       "        vertical-align: top;\n",
       "    }\n",
       "\n",
       "    .dataframe thead th {\n",
       "        text-align: right;\n",
       "    }\n",
       "</style>\n",
       "<table border=\"1\" class=\"dataframe\">\n",
       "  <thead>\n",
       "    <tr style=\"text-align: right;\">\n",
       "      <th></th>\n",
       "      <th>Timestamp</th>\n",
       "      <th>TransactionID</th>\n",
       "      <th>AccountID</th>\n",
       "      <th>Amount</th>\n",
       "      <th>Merchant</th>\n",
       "      <th>TransactionType</th>\n",
       "      <th>Location</th>\n",
       "    </tr>\n",
       "  </thead>\n",
       "  <tbody>\n",
       "    <tr>\n",
       "      <th>0</th>\n",
       "      <td>01-01-2023 08:00</td>\n",
       "      <td>TXN1127</td>\n",
       "      <td>ACC4</td>\n",
       "      <td>95071.92</td>\n",
       "      <td>MerchantH</td>\n",
       "      <td>Purchase</td>\n",
       "      <td>Tokyo</td>\n",
       "    </tr>\n",
       "    <tr>\n",
       "      <th>1</th>\n",
       "      <td>01-01-2023 08:01</td>\n",
       "      <td>TXN1639</td>\n",
       "      <td>ACC10</td>\n",
       "      <td>15607.89</td>\n",
       "      <td>MerchantH</td>\n",
       "      <td>Purchase</td>\n",
       "      <td>London</td>\n",
       "    </tr>\n",
       "    <tr>\n",
       "      <th>2</th>\n",
       "      <td>01-01-2023 08:02</td>\n",
       "      <td>TXN872</td>\n",
       "      <td>ACC8</td>\n",
       "      <td>65092.34</td>\n",
       "      <td>MerchantE</td>\n",
       "      <td>Withdrawal</td>\n",
       "      <td>London</td>\n",
       "    </tr>\n",
       "    <tr>\n",
       "      <th>3</th>\n",
       "      <td>01-01-2023 08:03</td>\n",
       "      <td>TXN1438</td>\n",
       "      <td>ACC6</td>\n",
       "      <td>87.87</td>\n",
       "      <td>MerchantE</td>\n",
       "      <td>Purchase</td>\n",
       "      <td>London</td>\n",
       "    </tr>\n",
       "    <tr>\n",
       "      <th>4</th>\n",
       "      <td>01-01-2023 08:04</td>\n",
       "      <td>TXN1338</td>\n",
       "      <td>ACC6</td>\n",
       "      <td>716.56</td>\n",
       "      <td>MerchantI</td>\n",
       "      <td>Purchase</td>\n",
       "      <td>Los Angeles</td>\n",
       "    </tr>\n",
       "  </tbody>\n",
       "</table>\n",
       "</div>"
      ],
      "text/plain": [
       "          Timestamp TransactionID AccountID    Amount   Merchant  \\\n",
       "0  01-01-2023 08:00       TXN1127      ACC4  95071.92  MerchantH   \n",
       "1  01-01-2023 08:01       TXN1639     ACC10  15607.89  MerchantH   \n",
       "2  01-01-2023 08:02        TXN872      ACC8  65092.34  MerchantE   \n",
       "3  01-01-2023 08:03       TXN1438      ACC6     87.87  MerchantE   \n",
       "4  01-01-2023 08:04       TXN1338      ACC6    716.56  MerchantI   \n",
       "\n",
       "  TransactionType     Location  \n",
       "0        Purchase        Tokyo  \n",
       "1        Purchase       London  \n",
       "2      Withdrawal       London  \n",
       "3        Purchase       London  \n",
       "4        Purchase  Los Angeles  "
      ]
     },
     "execution_count": 42,
     "metadata": {},
     "output_type": "execute_result"
    }
   ],
   "source": [
    "data=pd.read_csv('financial_anomaly_data.csv')\n",
    "data.head()"
   ]
  },
  {
   "cell_type": "code",
   "execution_count": 43,
   "id": "a2f3e41b",
   "metadata": {},
   "outputs": [],
   "source": [
    "#df.tail(482)"
   ]
  },
  {
   "cell_type": "code",
   "execution_count": 44,
   "id": "c1c6e2ce",
   "metadata": {},
   "outputs": [],
   "source": [
    "#df.isnull()"
   ]
  },
  {
   "cell_type": "code",
   "execution_count": 45,
   "id": "2c181d4b",
   "metadata": {},
   "outputs": [
    {
     "data": {
      "text/plain": [
       "Timestamp          481\n",
       "TransactionID      481\n",
       "AccountID          481\n",
       "Amount             481\n",
       "Merchant           481\n",
       "TransactionType    481\n",
       "Location           481\n",
       "dtype: int64"
      ]
     },
     "execution_count": 45,
     "metadata": {},
     "output_type": "execute_result"
    }
   ],
   "source": [
    "data.isna().sum()"
   ]
  },
  {
   "cell_type": "code",
   "execution_count": 46,
   "id": "596cb226",
   "metadata": {},
   "outputs": [
    {
     "name": "stdout",
     "output_type": "stream",
     "text": [
      "<class 'pandas.core.frame.DataFrame'>\n",
      "RangeIndex: 217441 entries, 0 to 217440\n",
      "Data columns (total 7 columns):\n",
      " #   Column           Non-Null Count   Dtype  \n",
      "---  ------           --------------   -----  \n",
      " 0   Timestamp        216960 non-null  object \n",
      " 1   TransactionID    216960 non-null  object \n",
      " 2   AccountID        216960 non-null  object \n",
      " 3   Amount           216960 non-null  float64\n",
      " 4   Merchant         216960 non-null  object \n",
      " 5   TransactionType  216960 non-null  object \n",
      " 6   Location         216960 non-null  object \n",
      "dtypes: float64(1), object(6)\n",
      "memory usage: 11.6+ MB\n"
     ]
    }
   ],
   "source": [
    "data.info()"
   ]
  },
  {
   "cell_type": "code",
   "execution_count": 47,
   "id": "98d3663c",
   "metadata": {},
   "outputs": [
    {
     "data": {
      "text/html": [
       "<div>\n",
       "<style scoped>\n",
       "    .dataframe tbody tr th:only-of-type {\n",
       "        vertical-align: middle;\n",
       "    }\n",
       "\n",
       "    .dataframe tbody tr th {\n",
       "        vertical-align: top;\n",
       "    }\n",
       "\n",
       "    .dataframe thead th {\n",
       "        text-align: right;\n",
       "    }\n",
       "</style>\n",
       "<table border=\"1\" class=\"dataframe\">\n",
       "  <thead>\n",
       "    <tr style=\"text-align: right;\">\n",
       "      <th></th>\n",
       "      <th>Amount</th>\n",
       "    </tr>\n",
       "  </thead>\n",
       "  <tbody>\n",
       "    <tr>\n",
       "      <th>count</th>\n",
       "      <td>216960.000000</td>\n",
       "    </tr>\n",
       "    <tr>\n",
       "      <th>mean</th>\n",
       "      <td>50090.025108</td>\n",
       "    </tr>\n",
       "    <tr>\n",
       "      <th>std</th>\n",
       "      <td>29097.905016</td>\n",
       "    </tr>\n",
       "    <tr>\n",
       "      <th>min</th>\n",
       "      <td>10.510000</td>\n",
       "    </tr>\n",
       "    <tr>\n",
       "      <th>25%</th>\n",
       "      <td>25061.242500</td>\n",
       "    </tr>\n",
       "    <tr>\n",
       "      <th>50%</th>\n",
       "      <td>50183.980000</td>\n",
       "    </tr>\n",
       "    <tr>\n",
       "      <th>75%</th>\n",
       "      <td>75080.460000</td>\n",
       "    </tr>\n",
       "    <tr>\n",
       "      <th>max</th>\n",
       "      <td>978942.260000</td>\n",
       "    </tr>\n",
       "  </tbody>\n",
       "</table>\n",
       "</div>"
      ],
      "text/plain": [
       "              Amount\n",
       "count  216960.000000\n",
       "mean    50090.025108\n",
       "std     29097.905016\n",
       "min        10.510000\n",
       "25%     25061.242500\n",
       "50%     50183.980000\n",
       "75%     75080.460000\n",
       "max    978942.260000"
      ]
     },
     "execution_count": 47,
     "metadata": {},
     "output_type": "execute_result"
    }
   ],
   "source": [
    "data.describe()"
   ]
  },
  {
   "cell_type": "code",
   "execution_count": 48,
   "id": "84f9cd6a",
   "metadata": {},
   "outputs": [],
   "source": [
    "#df.dropna().describe()"
   ]
  },
  {
   "cell_type": "code",
   "execution_count": 49,
   "id": "7a42e7bc",
   "metadata": {},
   "outputs": [],
   "source": [
    "df=data.dropna()\n",
    "data1=data.dropna()"
   ]
  },
  {
   "cell_type": "markdown",
   "id": "76141cab",
   "metadata": {},
   "source": [
    "### Feature engineering\n",
    "#### Assigning numerical value to categorical data "
   ]
  },
  {
   "cell_type": "code",
   "execution_count": 50,
   "id": "7e6d3c9e",
   "metadata": {
    "scrolled": false
   },
   "outputs": [
    {
     "data": {
      "text/plain": [
       "15"
      ]
     },
     "execution_count": 50,
     "metadata": {},
     "output_type": "execute_result"
    }
   ],
   "source": [
    "data1['AccountID'].nunique()"
   ]
  },
  {
   "cell_type": "code",
   "execution_count": 51,
   "id": "52d1ff82",
   "metadata": {},
   "outputs": [
    {
     "name": "stdout",
     "output_type": "stream",
     "text": [
      "['ACC4' 'ACC10' 'ACC8' 'ACC6' 'ACC15' 'ACC9' 'ACC7' 'ACC12' 'ACC2' 'ACC14'\n",
      " 'ACC1' 'ACC11' 'ACC3' 'ACC5' 'ACC13']\n"
     ]
    }
   ],
   "source": [
    "print(data1['AccountID'].unique())"
   ]
  },
  {
   "cell_type": "code",
   "execution_count": 52,
   "id": "e6a042ac",
   "metadata": {},
   "outputs": [
    {
     "data": {
      "text/plain": [
       "AccountID\n",
       "ACC15    14701\n",
       "ACC5     14630\n",
       "ACC7     14581\n",
       "ACC2     14553\n",
       "ACC9     14527\n",
       "ACC14    14458\n",
       "ACC4     14456\n",
       "ACC11    14446\n",
       "ACC12    14421\n",
       "ACC13    14421\n",
       "ACC8     14402\n",
       "ACC1     14365\n",
       "ACC10    14362\n",
       "ACC6     14352\n",
       "ACC3     14285\n",
       "Name: count, dtype: int64"
      ]
     },
     "execution_count": 52,
     "metadata": {},
     "output_type": "execute_result"
    }
   ],
   "source": [
    "data1['AccountID'].value_counts()"
   ]
  },
  {
   "cell_type": "code",
   "execution_count": 53,
   "id": "cee04250",
   "metadata": {},
   "outputs": [
    {
     "name": "stdout",
     "output_type": "stream",
     "text": [
      "['ACC4', 'ACC10', 'ACC8', 'ACC6', 'ACC15', 'ACC9', 'ACC7', 'ACC12', 'ACC2', 'ACC14', 'ACC1', 'ACC11', 'ACC3', 'ACC5', 'ACC13']\n",
      "[1, 2, 3, 4, 5, 6, 7, 8, 9, 10, 11, 12, 13, 14, 15]\n"
     ]
    }
   ],
   "source": [
    "account=list(df['AccountID'].unique())\n",
    "print(account)\n",
    "ac_l=[]\n",
    "i=0\n",
    "for j in account:\n",
    "    i+=1\n",
    "    ac_l.append(i)\n",
    "print(ac_l)"
   ]
  },
  {
   "cell_type": "code",
   "execution_count": 54,
   "id": "5c4efe4c",
   "metadata": {},
   "outputs": [
    {
     "name": "stderr",
     "output_type": "stream",
     "text": [
      "C:\\Users\\IITG\\AppData\\Local\\Temp\\ipykernel_15616\\3534241231.py:1: SettingWithCopyWarning: \n",
      "A value is trying to be set on a copy of a slice from a DataFrame\n",
      "\n",
      "See the caveats in the documentation: https://pandas.pydata.org/pandas-docs/stable/user_guide/indexing.html#returning-a-view-versus-a-copy\n",
      "  df['AccountID'].replace(account,ac_l,inplace=True)\n"
     ]
    }
   ],
   "source": [
    "df['AccountID'].replace(account,ac_l,inplace=True)"
   ]
  },
  {
   "cell_type": "code",
   "execution_count": 55,
   "id": "383353ad",
   "metadata": {},
   "outputs": [
    {
     "data": {
      "text/plain": [
       "<Axes: xlabel='AccountID', ylabel='count'>"
      ]
     },
     "execution_count": 55,
     "metadata": {},
     "output_type": "execute_result"
    },
    {
     "data": {
      "image/png": "[encoded data removed]",
      "text/plain": [
       "<Figure size 640x480 with 1 Axes>"
      ]
     },
     "metadata": {},
     "output_type": "display_data"
    }
   ],
   "source": [
    "sns.countplot(x='AccountID',data=df)"
   ]
  },
  {
   "cell_type": "code",
   "execution_count": 56,
   "id": "22fbc831",
   "metadata": {},
   "outputs": [
    {
     "data": {
      "text/plain": [
       "<Axes: xlabel='AccountID', ylabel='Amount'>"
      ]
     },
     "execution_count": 56,
     "metadata": {},
     "output_type": "execute_result"
    },
    {
     "data": {
      "image/png": "[encoded data removed]",
      "text/plain": [
       "<Figure size 640x480 with 1 Axes>"
      ]
     },
     "metadata": {},
     "output_type": "display_data"
    }
   ],
   "source": [
    "sns.boxplot(x='AccountID',y='Amount',data=df)"
   ]
  },
  {
   "cell_type": "code",
   "execution_count": 57,
   "id": "b98ef269",
   "metadata": {},
   "outputs": [
    {
     "data": {
      "image/png": "[encoded data removed]",
      "text/plain": [
       "<Figure size 640x480 with 1 Axes>"
      ]
     },
     "metadata": {},
     "output_type": "display_data"
    }
   ],
   "source": [
    "for i in account: \n",
    "    d=data1[data1['AccountID']==i]['Amount']\n",
    "    #print(d.nunique())\n",
    "    j=1\n",
    "    plt.subplot(8,2,j)\n",
    "    plt.plot(np.array(d))\n",
    "    j+=1"
   ]
  },
  {
   "cell_type": "code",
   "execution_count": 58,
   "id": "0990469e",
   "metadata": {},
   "outputs": [
    {
     "data": {
      "text/plain": [
       "[<matplotlib.lines.Line2D at 0x1f1a39ad610>]"
      ]
     },
     "execution_count": 58,
     "metadata": {},
     "output_type": "execute_result"
    },
    {
     "data": {
      "image/png": "[encoded data removed]",
      "text/plain": [
       "<Figure size 640x480 with 1 Axes>"
      ]
     },
     "metadata": {},
     "output_type": "display_data"
    }
   ],
   "source": [
    "\n",
    "d=data1[data1['AccountID']=='ACC1']['Amount']\n",
    "#print(d.nunique())\n",
    "#plt.subplot(8,2,j)\n",
    "plt.plot(np.array(d))"
   ]
  },
  {
   "cell_type": "code",
   "execution_count": 59,
   "id": "54157f8f",
   "metadata": {},
   "outputs": [
    {
     "data": {
      "text/plain": [
       "1999"
      ]
     },
     "execution_count": 59,
     "metadata": {},
     "output_type": "execute_result"
    }
   ],
   "source": [
    "df['TransactionID'].nunique()"
   ]
  },
  {
   "cell_type": "code",
   "execution_count": 60,
   "id": "c35779b3",
   "metadata": {},
   "outputs": [
    {
     "data": {
      "text/plain": [
       "214687"
      ]
     },
     "execution_count": 60,
     "metadata": {},
     "output_type": "execute_result"
    }
   ],
   "source": [
    "df['Amount'].nunique()"
   ]
  },
  {
   "cell_type": "code",
   "execution_count": 61,
   "id": "56414717",
   "metadata": {},
   "outputs": [
    {
     "data": {
      "text/plain": [
       "10"
      ]
     },
     "execution_count": 61,
     "metadata": {},
     "output_type": "execute_result"
    }
   ],
   "source": [
    "df['Merchant'].nunique()"
   ]
  },
  {
   "cell_type": "code",
   "execution_count": 62,
   "id": "dd47bcc4",
   "metadata": {},
   "outputs": [
    {
     "data": {
      "text/plain": [
       "Merchant\n",
       "MerchantF    21924\n",
       "MerchantG    21891\n",
       "MerchantD    21820\n",
       "MerchantB    21766\n",
       "MerchantI    21752\n",
       "MerchantA    21699\n",
       "MerchantJ    21654\n",
       "MerchantE    21543\n",
       "MerchantH    21518\n",
       "MerchantC    21393\n",
       "Name: count, dtype: int64"
      ]
     },
     "execution_count": 62,
     "metadata": {},
     "output_type": "execute_result"
    }
   ],
   "source": [
    "df['Merchant'].value_counts()"
   ]
  },
  {
   "cell_type": "code",
   "execution_count": 63,
   "id": "b50684aa",
   "metadata": {},
   "outputs": [
    {
     "data": {
      "image/png": "[encoded data removed]",
      "text/plain": [
       "<Figure size 640x480 with 10 Axes>"
      ]
     },
     "metadata": {},
     "output_type": "display_data"
    }
   ],
   "source": [
    "d=data1[data1['Merchant']=='MerchantA']['Amount']\n",
    "#print(d.nunique())\n",
    "plt.subplot(5,2,1)\n",
    "plt.plot(np.array(d))\n",
    "\n",
    "d=data1[data1['Merchant']=='MerchantB']['Amount']\n",
    "#print(d.nunique())\n",
    "plt.subplot(5,2,2)\n",
    "plt.plot(np.array(d))\n",
    "\n",
    "d=data1[data1['Merchant']=='MerchantC']['Amount']\n",
    "#print(d.nunique())\n",
    "plt.subplot(5,2,3)\n",
    "plt.plot(np.array(d))\n",
    "\n",
    "d=data1[data1['Merchant']=='MerchantD']['Amount']\n",
    "#print(d.nunique())\n",
    "plt.subplot(5,2,4)\n",
    "plt.plot(np.array(d))\n",
    "\n",
    "d=data1[data1['Merchant']=='MerchantE']['Amount']\n",
    "#print(d.nunique())\n",
    "plt.subplot(5,2,5)\n",
    "plt.plot(np.array(d))\n",
    "\n",
    "d=data1[data1['Merchant']=='MerchantF']['Amount']\n",
    "#print(d.nunique())\n",
    "plt.subplot(5,2,6)\n",
    "plt.plot(np.array(d))\n",
    "\n",
    "d=data1[data1['Merchant']=='MerchantG']['Amount']\n",
    "#print(d.nunique())\n",
    "plt.subplot(5,2,7)\n",
    "plt.plot(np.array(d))\n",
    "\n",
    "d=data1[data1['Merchant']=='MerchantH']['Amount']\n",
    "#print(d.nunique())\n",
    "plt.subplot(5,2,8)\n",
    "plt.plot(np.array(d))\n",
    "\n",
    "d=data1[data1['Merchant']=='MerchantI']['Amount']\n",
    "#print(d.nunique())\n",
    "plt.subplot(5,2,9)\n",
    "plt.plot(np.array(d))\n",
    "\n",
    "d=data1[data1['Merchant']=='MerchantJ']['Amount']\n",
    "#print(d.nunique())\n",
    "plt.subplot(5,2,10)\n",
    "plt.plot(np.array(d))\n",
    "\n",
    "plt.show()\n",
    "#sns.boxplot(x=d)"
   ]
  },
  {
   "cell_type": "code",
   "execution_count": 64,
   "id": "6eb584b6",
   "metadata": {},
   "outputs": [
    {
     "name": "stdout",
     "output_type": "stream",
     "text": [
      "['MerchantH', 'MerchantE', 'MerchantI', 'MerchantC', 'MerchantD', 'MerchantB', 'MerchantJ', 'MerchantA', 'MerchantG', 'MerchantF']\n",
      "[1, 2, 3, 4, 5, 6, 7, 8, 9, 10]\n"
     ]
    }
   ],
   "source": [
    "merchant=list(df['Merchant'].unique())\n",
    "print(merchant)\n",
    "mer_l=[]\n",
    "i=0\n",
    "for j in merchant:\n",
    "    i+=1\n",
    "    mer_l.append(i)\n",
    "print(mer_l)\n"
   ]
  },
  {
   "cell_type": "code",
   "execution_count": null,
   "id": "d36747a1",
   "metadata": {},
   "outputs": [],
   "source": []
  },
  {
   "cell_type": "code",
   "execution_count": 65,
   "id": "3ec9dd6c",
   "metadata": {},
   "outputs": [
    {
     "name": "stderr",
     "output_type": "stream",
     "text": [
      "C:\\Users\\IITG\\AppData\\Local\\Temp\\ipykernel_15616\\2155152691.py:1: SettingWithCopyWarning: \n",
      "A value is trying to be set on a copy of a slice from a DataFrame\n",
      "\n",
      "See the caveats in the documentation: https://pandas.pydata.org/pandas-docs/stable/user_guide/indexing.html#returning-a-view-versus-a-copy\n",
      "  df['Merchant'].replace(merchant,mer_l,inplace=True)\n"
     ]
    }
   ],
   "source": [
    "df['Merchant'].replace(merchant,mer_l,inplace=True)"
   ]
  },
  {
   "cell_type": "code",
   "execution_count": 66,
   "id": "70456c0f",
   "metadata": {},
   "outputs": [
    {
     "data": {
      "text/plain": [
       "<Axes: xlabel='Merchant', ylabel='count'>"
      ]
     },
     "execution_count": 66,
     "metadata": {},
     "output_type": "execute_result"
    },
    {
     "data": {
      "image/png": "[encoded data removed]",
      "text/plain": [
       "<Figure size 640x480 with 1 Axes>"
      ]
     },
     "metadata": {},
     "output_type": "display_data"
    }
   ],
   "source": [
    "sns.countplot(x='Merchant',data=df)"
   ]
  },
  {
   "cell_type": "code",
   "execution_count": 67,
   "id": "7436b288",
   "metadata": {},
   "outputs": [
    {
     "data": {
      "text/plain": [
       "<Axes: xlabel='Merchant', ylabel='Amount'>"
      ]
     },
     "execution_count": 67,
     "metadata": {},
     "output_type": "execute_result"
    },
    {
     "data": {
      "image/png": "[encoded data removed]",
      "text/plain": [
       "<Figure size 640x480 with 1 Axes>"
      ]
     },
     "metadata": {},
     "output_type": "display_data"
    }
   ],
   "source": [
    "sns.boxplot(x='Merchant',y='Amount',data=df)"
   ]
  },
  {
   "cell_type": "code",
   "execution_count": 68,
   "id": "0f2471af",
   "metadata": {},
   "outputs": [
    {
     "data": {
      "text/plain": [
       "3"
      ]
     },
     "execution_count": 68,
     "metadata": {},
     "output_type": "execute_result"
    }
   ],
   "source": [
    "df['TransactionType'].nunique()"
   ]
  },
  {
   "cell_type": "code",
   "execution_count": 69,
   "id": "cecfde9b",
   "metadata": {},
   "outputs": [
    {
     "data": {
      "text/plain": [
       "TransactionType\n",
       "Transfer      72793\n",
       "Purchase      72235\n",
       "Withdrawal    71932\n",
       "Name: count, dtype: int64"
      ]
     },
     "execution_count": 69,
     "metadata": {},
     "output_type": "execute_result"
    }
   ],
   "source": [
    "df['TransactionType'].value_counts()"
   ]
  },
  {
   "cell_type": "code",
   "execution_count": 70,
   "id": "63feb6bd",
   "metadata": {},
   "outputs": [
    {
     "data": {
      "text/plain": [
       "<Axes: xlabel='TransactionType', ylabel='Amount'>"
      ]
     },
     "execution_count": 70,
     "metadata": {},
     "output_type": "execute_result"
    },
    {
     "data": {
      "image/png": "[encoded data removed]",
      "text/plain": [
       "<Figure size 640x480 with 1 Axes>"
      ]
     },
     "metadata": {},
     "output_type": "display_data"
    }
   ],
   "source": [
    "sns.boxplot(x='TransactionType',y='Amount',data=df)"
   ]
  },
  {
   "cell_type": "code",
   "execution_count": 71,
   "id": "16cbde26",
   "metadata": {},
   "outputs": [
    {
     "data": {
      "text/plain": [
       "<Axes: xlabel='TransactionType', ylabel='count'>"
      ]
     },
     "execution_count": 71,
     "metadata": {},
     "output_type": "execute_result"
    },
    {
     "data": {
      "image/png": "[encoded data removed]",
      "text/plain": [
       "<Figure size 640x480 with 1 Axes>"
      ]
     },
     "metadata": {},
     "output_type": "display_data"
    }
   ],
   "source": [
    "sns.countplot(x='TransactionType',data=df)"
   ]
  },
  {
   "cell_type": "code",
   "execution_count": 72,
   "id": "a941e1a7",
   "metadata": {},
   "outputs": [
    {
     "name": "stderr",
     "output_type": "stream",
     "text": [
      "C:\\Users\\IITG\\AppData\\Local\\Temp\\ipykernel_15616\\2574785859.py:1: SettingWithCopyWarning: \n",
      "A value is trying to be set on a copy of a slice from a DataFrame\n",
      "\n",
      "See the caveats in the documentation: https://pandas.pydata.org/pandas-docs/stable/user_guide/indexing.html#returning-a-view-versus-a-copy\n",
      "  df['TransactionType'].replace(['Transfer','Purchase','Withdrawal'],[1,2,3],inplace=True)\n"
     ]
    }
   ],
   "source": [
    "df['TransactionType'].replace(['Transfer','Purchase','Withdrawal'],[1,2,3],inplace=True)"
   ]
  },
  {
   "cell_type": "code",
   "execution_count": 73,
   "id": "b3eebe0b",
   "metadata": {},
   "outputs": [
    {
     "data": {
      "text/plain": [
       "5"
      ]
     },
     "execution_count": 73,
     "metadata": {},
     "output_type": "execute_result"
    }
   ],
   "source": [
    "df['Location'].nunique()"
   ]
  },
  {
   "cell_type": "code",
   "execution_count": 74,
   "id": "6bd17e5a",
   "metadata": {},
   "outputs": [
    {
     "data": {
      "text/plain": [
       "array(['Tokyo', 'London', 'Los Angeles', 'San Francisco', 'New York'],\n",
       "      dtype=object)"
      ]
     },
     "execution_count": 74,
     "metadata": {},
     "output_type": "execute_result"
    }
   ],
   "source": [
    "df['Location'].unique()"
   ]
  },
  {
   "cell_type": "code",
   "execution_count": 75,
   "id": "74f86ec3",
   "metadata": {},
   "outputs": [
    {
     "data": {
      "text/plain": [
       "Location\n",
       "San Francisco    43613\n",
       "New York         43378\n",
       "London           43343\n",
       "Los Angeles      43335\n",
       "Tokyo            43291\n",
       "Name: count, dtype: int64"
      ]
     },
     "execution_count": 75,
     "metadata": {},
     "output_type": "execute_result"
    }
   ],
   "source": [
    "df['Location'].value_counts()"
   ]
  },
  {
   "cell_type": "code",
   "execution_count": 76,
   "id": "1f897356",
   "metadata": {},
   "outputs": [
    {
     "data": {
      "text/plain": [
       "<Axes: xlabel='Location', ylabel='Amount'>"
      ]
     },
     "execution_count": 76,
     "metadata": {},
     "output_type": "execute_result"
    },
    {
     "data": {
      "image/png": "[encoded data removed]",
      "text/plain": [
       "<Figure size 640x480 with 1 Axes>"
      ]
     },
     "metadata": {},
     "output_type": "display_data"
    }
   ],
   "source": [
    "sns.boxplot(x='Location',y='Amount',data=df)"
   ]
  },
  {
   "cell_type": "code",
   "execution_count": 77,
   "id": "b5ee483b",
   "metadata": {},
   "outputs": [
    {
     "data": {
      "text/plain": [
       "<Axes: xlabel='Location', ylabel='count'>"
      ]
     },
     "execution_count": 77,
     "metadata": {},
     "output_type": "execute_result"
    },
    {
     "data": {
      "image/png": "[encoded data removed]",
      "text/plain": [
       "<Figure size 640x480 with 1 Axes>"
      ]
     },
     "metadata": {},
     "output_type": "display_data"
    }
   ],
   "source": [
    "sns.countplot(x='Location',data=df)"
   ]
  },
  {
   "cell_type": "code",
   "execution_count": 78,
   "id": "4b623004",
   "metadata": {},
   "outputs": [
    {
     "name": "stderr",
     "output_type": "stream",
     "text": [
      "C:\\Users\\IITG\\AppData\\Local\\Temp\\ipykernel_15616\\2914813418.py:1: SettingWithCopyWarning: \n",
      "A value is trying to be set on a copy of a slice from a DataFrame\n",
      "\n",
      "See the caveats in the documentation: https://pandas.pydata.org/pandas-docs/stable/user_guide/indexing.html#returning-a-view-versus-a-copy\n",
      "  df['Location'].replace(['San Francisco','New York','London','Los Angeles','Tokyo'],[1,2,3,4,5],inplace=True)\n"
     ]
    }
   ],
   "source": [
    "df['Location'].replace(['San Francisco','New York','London','Los Angeles','Tokyo'],[1,2,3,4,5],inplace=True)"
   ]
  },
  {
   "cell_type": "code",
   "execution_count": 79,
   "id": "9e91ef58",
   "metadata": {},
   "outputs": [
    {
     "data": {
      "text/plain": [
       "['Amount']"
      ]
     },
     "execution_count": 79,
     "metadata": {},
     "output_type": "execute_result"
    }
   ],
   "source": [
    "['Amount']"
   ]
  },
  {
   "cell_type": "code",
   "execution_count": 80,
   "id": "4b2855bf",
   "metadata": {},
   "outputs": [
    {
     "data": {
      "text/plain": [
       "216960"
      ]
     },
     "execution_count": 80,
     "metadata": {},
     "output_type": "execute_result"
    }
   ],
   "source": [
    "df['Timestamp'].nunique()"
   ]
  },
  {
   "cell_type": "code",
   "execution_count": 81,
   "id": "c93f9bf8",
   "metadata": {},
   "outputs": [
    {
     "data": {
      "text/plain": [
       "'13-01-2023 00:00'"
      ]
     },
     "execution_count": 81,
     "metadata": {},
     "output_type": "execute_result"
    }
   ],
   "source": [
    "df['Timestamp'][16800]"
   ]
  },
  {
   "cell_type": "code",
   "execution_count": 82,
   "id": "5191c9f5",
   "metadata": {},
   "outputs": [
    {
     "name": "stderr",
     "output_type": "stream",
     "text": [
      "C:\\Users\\IITG\\AppData\\Local\\Temp\\ipykernel_15616\\604855561.py:1: SettingWithCopyWarning: \n",
      "A value is trying to be set on a copy of a slice from a DataFrame.\n",
      "Try using .loc[row_indexer,col_indexer] = value instead\n",
      "\n",
      "See the caveats in the documentation: https://pandas.pydata.org/pandas-docs/stable/user_guide/indexing.html#returning-a-view-versus-a-copy\n",
      "  df['Timestamp'] = pd.to_datetime(df['Timestamp'],format='mixed')\n"
     ]
    }
   ],
   "source": [
    "df['Timestamp'] = pd.to_datetime(df['Timestamp'],format='mixed')"
   ]
  },
  {
   "cell_type": "code",
   "execution_count": 83,
   "id": "ae359bdc",
   "metadata": {},
   "outputs": [
    {
     "name": "stderr",
     "output_type": "stream",
     "text": [
      "C:\\Users\\IITG\\AppData\\Local\\Temp\\ipykernel_15616\\4193549056.py:2: SettingWithCopyWarning: \n",
      "A value is trying to be set on a copy of a slice from a DataFrame.\n",
      "Try using .loc[row_indexer,col_indexer] = value instead\n",
      "\n",
      "See the caveats in the documentation: https://pandas.pydata.org/pandas-docs/stable/user_guide/indexing.html#returning-a-view-versus-a-copy\n",
      "  df['year'] = df['Timestamp'].dt.year\n",
      "C:\\Users\\IITG\\AppData\\Local\\Temp\\ipykernel_15616\\4193549056.py:3: SettingWithCopyWarning: \n",
      "A value is trying to be set on a copy of a slice from a DataFrame.\n",
      "Try using .loc[row_indexer,col_indexer] = value instead\n",
      "\n",
      "See the caveats in the documentation: https://pandas.pydata.org/pandas-docs/stable/user_guide/indexing.html#returning-a-view-versus-a-copy\n",
      "  df['month'] = df['Timestamp'].dt.month\n",
      "C:\\Users\\IITG\\AppData\\Local\\Temp\\ipykernel_15616\\4193549056.py:4: SettingWithCopyWarning: \n",
      "A value is trying to be set on a copy of a slice from a DataFrame.\n",
      "Try using .loc[row_indexer,col_indexer] = value instead\n",
      "\n",
      "See the caveats in the documentation: https://pandas.pydata.org/pandas-docs/stable/user_guide/indexing.html#returning-a-view-versus-a-copy\n",
      "  df['day'] = df['Timestamp'].dt.day\n",
      "C:\\Users\\IITG\\AppData\\Local\\Temp\\ipykernel_15616\\4193549056.py:5: SettingWithCopyWarning: \n",
      "A value is trying to be set on a copy of a slice from a DataFrame.\n",
      "Try using .loc[row_indexer,col_indexer] = value instead\n",
      "\n",
      "See the caveats in the documentation: https://pandas.pydata.org/pandas-docs/stable/user_guide/indexing.html#returning-a-view-versus-a-copy\n",
      "  df['hour'] = df['Timestamp'].dt.hour\n",
      "C:\\Users\\IITG\\AppData\\Local\\Temp\\ipykernel_15616\\4193549056.py:6: SettingWithCopyWarning: \n",
      "A value is trying to be set on a copy of a slice from a DataFrame.\n",
      "Try using .loc[row_indexer,col_indexer] = value instead\n",
      "\n",
      "See the caveats in the documentation: https://pandas.pydata.org/pandas-docs/stable/user_guide/indexing.html#returning-a-view-versus-a-copy\n",
      "  df['minute'] = df['Timestamp'].dt.minute\n",
      "C:\\Users\\IITG\\AppData\\Local\\Temp\\ipykernel_15616\\4193549056.py:7: SettingWithCopyWarning: \n",
      "A value is trying to be set on a copy of a slice from a DataFrame.\n",
      "Try using .loc[row_indexer,col_indexer] = value instead\n",
      "\n",
      "See the caveats in the documentation: https://pandas.pydata.org/pandas-docs/stable/user_guide/indexing.html#returning-a-view-versus-a-copy\n",
      "  df['second'] = df['Timestamp'].dt.second\n"
     ]
    }
   ],
   "source": [
    "# Extracting relevant time features\n",
    "df['year'] = df['Timestamp'].dt.year\n",
    "df['month'] = df['Timestamp'].dt.month\n",
    "df['day'] = df['Timestamp'].dt.day\n",
    "df['hour'] = df['Timestamp'].dt.hour\n",
    "df['minute'] = df['Timestamp'].dt.minute\n",
    "df['second'] = df['Timestamp'].dt.second"
   ]
  },
  {
   "cell_type": "code",
   "execution_count": 84,
   "id": "fab0b45a",
   "metadata": {},
   "outputs": [
    {
     "data": {
      "text/html": [
       "<div>\n",
       "<style scoped>\n",
       "    .dataframe tbody tr th:only-of-type {\n",
       "        vertical-align: middle;\n",
       "    }\n",
       "\n",
       "    .dataframe tbody tr th {\n",
       "        vertical-align: top;\n",
       "    }\n",
       "\n",
       "    .dataframe thead th {\n",
       "        text-align: right;\n",
       "    }\n",
       "</style>\n",
       "<table border=\"1\" class=\"dataframe\">\n",
       "  <thead>\n",
       "    <tr style=\"text-align: right;\">\n",
       "      <th></th>\n",
       "      <th>Timestamp</th>\n",
       "      <th>TransactionID</th>\n",
       "      <th>AccountID</th>\n",
       "      <th>Amount</th>\n",
       "      <th>Merchant</th>\n",
       "      <th>TransactionType</th>\n",
       "      <th>Location</th>\n",
       "      <th>year</th>\n",
       "      <th>month</th>\n",
       "      <th>day</th>\n",
       "      <th>hour</th>\n",
       "      <th>minute</th>\n",
       "      <th>second</th>\n",
       "    </tr>\n",
       "  </thead>\n",
       "  <tbody>\n",
       "    <tr>\n",
       "      <th>0</th>\n",
       "      <td>2023-01-01 08:00:00</td>\n",
       "      <td>TXN1127</td>\n",
       "      <td>1</td>\n",
       "      <td>95071.92</td>\n",
       "      <td>1</td>\n",
       "      <td>2</td>\n",
       "      <td>5</td>\n",
       "      <td>2023</td>\n",
       "      <td>1</td>\n",
       "      <td>1</td>\n",
       "      <td>8</td>\n",
       "      <td>0</td>\n",
       "      <td>0</td>\n",
       "    </tr>\n",
       "    <tr>\n",
       "      <th>1</th>\n",
       "      <td>2023-01-01 08:01:00</td>\n",
       "      <td>TXN1639</td>\n",
       "      <td>2</td>\n",
       "      <td>15607.89</td>\n",
       "      <td>1</td>\n",
       "      <td>2</td>\n",
       "      <td>3</td>\n",
       "      <td>2023</td>\n",
       "      <td>1</td>\n",
       "      <td>1</td>\n",
       "      <td>8</td>\n",
       "      <td>1</td>\n",
       "      <td>0</td>\n",
       "    </tr>\n",
       "    <tr>\n",
       "      <th>2</th>\n",
       "      <td>2023-01-01 08:02:00</td>\n",
       "      <td>TXN872</td>\n",
       "      <td>3</td>\n",
       "      <td>65092.34</td>\n",
       "      <td>2</td>\n",
       "      <td>3</td>\n",
       "      <td>3</td>\n",
       "      <td>2023</td>\n",
       "      <td>1</td>\n",
       "      <td>1</td>\n",
       "      <td>8</td>\n",
       "      <td>2</td>\n",
       "      <td>0</td>\n",
       "    </tr>\n",
       "  </tbody>\n",
       "</table>\n",
       "</div>"
      ],
      "text/plain": [
       "            Timestamp TransactionID  AccountID    Amount  Merchant  \\\n",
       "0 2023-01-01 08:00:00       TXN1127          1  95071.92         1   \n",
       "1 2023-01-01 08:01:00       TXN1639          2  15607.89         1   \n",
       "2 2023-01-01 08:02:00        TXN872          3  65092.34         2   \n",
       "\n",
       "   TransactionType  Location  year  month  day  hour  minute  second  \n",
       "0                2         5  2023      1    1     8       0       0  \n",
       "1                2         3  2023      1    1     8       1       0  \n",
       "2                3         3  2023      1    1     8       2       0  "
      ]
     },
     "execution_count": 84,
     "metadata": {},
     "output_type": "execute_result"
    }
   ],
   "source": [
    "df.head(3)"
   ]
  },
  {
   "cell_type": "code",
   "execution_count": 85,
   "id": "8da4149f",
   "metadata": {},
   "outputs": [
    {
     "name": "stdout",
     "output_type": "stream",
     "text": [
      "<class 'pandas.core.frame.DataFrame'>\n",
      "Index: 216960 entries, 0 to 216959\n",
      "Data columns (total 13 columns):\n",
      " #   Column           Non-Null Count   Dtype         \n",
      "---  ------           --------------   -----         \n",
      " 0   Timestamp        216960 non-null  datetime64[ns]\n",
      " 1   TransactionID    216960 non-null  object        \n",
      " 2   AccountID        216960 non-null  int64         \n",
      " 3   Amount           216960 non-null  float64       \n",
      " 4   Merchant         216960 non-null  int64         \n",
      " 5   TransactionType  216960 non-null  int64         \n",
      " 6   Location         216960 non-null  int64         \n",
      " 7   year             216960 non-null  int32         \n",
      " 8   month            216960 non-null  int32         \n",
      " 9   day              216960 non-null  int32         \n",
      " 10  hour             216960 non-null  int32         \n",
      " 11  minute           216960 non-null  int32         \n",
      " 12  second           216960 non-null  int32         \n",
      "dtypes: datetime64[ns](1), float64(1), int32(6), int64(4), object(1)\n",
      "memory usage: 26.3+ MB\n"
     ]
    }
   ],
   "source": [
    "df.info()"
   ]
  },
  {
   "cell_type": "markdown",
   "id": "ffaf088c",
   "metadata": {},
   "source": [
    "### Fraud detection"
   ]
  },
  {
   "cell_type": "code",
   "execution_count": 86,
   "id": "6b1065c9",
   "metadata": {},
   "outputs": [
    {
     "name": "stderr",
     "output_type": "stream",
     "text": [
      "C:\\Users\\IITG\\AppData\\Local\\Temp\\ipykernel_15616\\1115643179.py:4: SettingWithCopyWarning: \n",
      "A value is trying to be set on a copy of a slice from a DataFrame.\n",
      "Try using .loc[row_indexer,col_indexer] = value instead\n",
      "\n",
      "See the caveats in the documentation: https://pandas.pydata.org/pandas-docs/stable/user_guide/indexing.html#returning-a-view-versus-a-copy\n",
      "  df['Anomaly_Score'] = model.fit_predict(df[features])\n"
     ]
    }
   ],
   "source": [
    "features = ['AccountID','Amount','Merchant','TransactionType','Location','year','month','day','hour','minute','second']  # Add other relevant features\n",
    "model = IsolationForest(contamination=0.1)\n",
    "\n",
    "df['Anomaly_Score'] = model.fit_predict(df[features])\n",
    "potential_fraud = df[df['Anomaly_Score'] == -1]"
   ]
  },
  {
   "cell_type": "code",
   "execution_count": 87,
   "id": "3f249faf",
   "metadata": {},
   "outputs": [
    {
     "data": {
      "text/plain": [
       "2"
      ]
     },
     "execution_count": 87,
     "metadata": {},
     "output_type": "execute_result"
    }
   ],
   "source": [
    "df['Anomaly_Score'].nunique()"
   ]
  },
  {
   "cell_type": "markdown",
   "id": "57e6faf0",
   "metadata": {},
   "source": [
    "#### 1.  I can identify potential fraudulent activities in financial transactions using \"Anomaly_Score\" . \"Anomaly_Score = -1\" suggest fraudulent activities.\n",
    "#### 2. I have used \"IsolationForest\" , since this model is better to predict fraudulent activities in financial activities.\n",
    "#### 3. I have considered following features to find potential fraudulent activities: \"features = ['AccountID','Amount','Merchant','TransactionType','Location','year','month','day','hour','minute','second']\"\n",
    "#### feature engineering : I have assigned numerical value to categorical data to improve the model"
   ]
  },
  {
   "cell_type": "code",
   "execution_count": 88,
   "id": "7cea7870",
   "metadata": {},
   "outputs": [
    {
     "data": {
      "text/plain": [
       "Anomaly_Score\n",
       " 1    195264\n",
       "-1     21696\n",
       "Name: count, dtype: int64"
      ]
     },
     "execution_count": 88,
     "metadata": {},
     "output_type": "execute_result"
    }
   ],
   "source": [
    "df['Anomaly_Score'].value_counts()"
   ]
  },
  {
   "cell_type": "code",
   "execution_count": null,
   "id": "6e160e05",
   "metadata": {},
   "outputs": [],
   "source": []
  },
  {
   "cell_type": "code",
   "execution_count": 89,
   "id": "72b231ed",
   "metadata": {},
   "outputs": [
    {
     "data": {
      "text/html": [
       "<div>\n",
       "<style scoped>\n",
       "    .dataframe tbody tr th:only-of-type {\n",
       "        vertical-align: middle;\n",
       "    }\n",
       "\n",
       "    .dataframe tbody tr th {\n",
       "        vertical-align: top;\n",
       "    }\n",
       "\n",
       "    .dataframe thead th {\n",
       "        text-align: right;\n",
       "    }\n",
       "</style>\n",
       "<table border=\"1\" class=\"dataframe\">\n",
       "  <thead>\n",
       "    <tr style=\"text-align: right;\">\n",
       "      <th></th>\n",
       "      <th>Timestamp</th>\n",
       "      <th>AccountID</th>\n",
       "      <th>Amount</th>\n",
       "      <th>Merchant</th>\n",
       "      <th>TransactionType</th>\n",
       "      <th>Location</th>\n",
       "      <th>year</th>\n",
       "      <th>month</th>\n",
       "      <th>day</th>\n",
       "      <th>hour</th>\n",
       "      <th>minute</th>\n",
       "      <th>second</th>\n",
       "      <th>Anomaly_Score</th>\n",
       "    </tr>\n",
       "  </thead>\n",
       "  <tbody>\n",
       "    <tr>\n",
       "      <th>count</th>\n",
       "      <td>216960</td>\n",
       "      <td>216960.000000</td>\n",
       "      <td>216960.000000</td>\n",
       "      <td>216960.000000</td>\n",
       "      <td>216960.000000</td>\n",
       "      <td>216960.000000</td>\n",
       "      <td>216960.0</td>\n",
       "      <td>216960.000000</td>\n",
       "      <td>216960.000000</td>\n",
       "      <td>216960.000000</td>\n",
       "      <td>216960.000000</td>\n",
       "      <td>216960.0</td>\n",
       "      <td>216960.000000</td>\n",
       "    </tr>\n",
       "    <tr>\n",
       "      <th>mean</th>\n",
       "      <td>2023-04-27 16:24:59.203539968</td>\n",
       "      <td>7.999908</td>\n",
       "      <td>50090.025108</td>\n",
       "      <td>5.515104</td>\n",
       "      <td>1.996032</td>\n",
       "      <td>2.996834</td>\n",
       "      <td>2023.0</td>\n",
       "      <td>4.411504</td>\n",
       "      <td>14.261062</td>\n",
       "      <td>11.517699</td>\n",
       "      <td>29.500000</td>\n",
       "      <td>0.0</td>\n",
       "      <td>0.800000</td>\n",
       "    </tr>\n",
       "    <tr>\n",
       "      <th>min</th>\n",
       "      <td>2023-01-01 08:00:00</td>\n",
       "      <td>1.000000</td>\n",
       "      <td>10.510000</td>\n",
       "      <td>1.000000</td>\n",
       "      <td>1.000000</td>\n",
       "      <td>1.000000</td>\n",
       "      <td>2023.0</td>\n",
       "      <td>1.000000</td>\n",
       "      <td>1.000000</td>\n",
       "      <td>0.000000</td>\n",
       "      <td>0.000000</td>\n",
       "      <td>0.0</td>\n",
       "      <td>-1.000000</td>\n",
       "    </tr>\n",
       "    <tr>\n",
       "      <th>25%</th>\n",
       "      <td>2023-02-21 23:59:45</td>\n",
       "      <td>4.000000</td>\n",
       "      <td>25061.242500</td>\n",
       "      <td>3.000000</td>\n",
       "      <td>1.000000</td>\n",
       "      <td>2.000000</td>\n",
       "      <td>2023.0</td>\n",
       "      <td>2.000000</td>\n",
       "      <td>4.000000</td>\n",
       "      <td>6.000000</td>\n",
       "      <td>14.750000</td>\n",
       "      <td>0.0</td>\n",
       "      <td>1.000000</td>\n",
       "    </tr>\n",
       "    <tr>\n",
       "      <th>50%</th>\n",
       "      <td>2023-04-14 15:59:30</td>\n",
       "      <td>8.000000</td>\n",
       "      <td>50183.980000</td>\n",
       "      <td>6.000000</td>\n",
       "      <td>2.000000</td>\n",
       "      <td>3.000000</td>\n",
       "      <td>2023.0</td>\n",
       "      <td>4.000000</td>\n",
       "      <td>16.000000</td>\n",
       "      <td>12.000000</td>\n",
       "      <td>29.500000</td>\n",
       "      <td>0.0</td>\n",
       "      <td>1.000000</td>\n",
       "    </tr>\n",
       "    <tr>\n",
       "      <th>75%</th>\n",
       "      <td>2023-05-29 07:59:15</td>\n",
       "      <td>12.000000</td>\n",
       "      <td>75080.460000</td>\n",
       "      <td>8.000000</td>\n",
       "      <td>3.000000</td>\n",
       "      <td>4.000000</td>\n",
       "      <td>2023.0</td>\n",
       "      <td>5.000000</td>\n",
       "      <td>23.000000</td>\n",
       "      <td>18.000000</td>\n",
       "      <td>44.250000</td>\n",
       "      <td>0.0</td>\n",
       "      <td>1.000000</td>\n",
       "    </tr>\n",
       "    <tr>\n",
       "      <th>max</th>\n",
       "      <td>2023-12-05 23:59:00</td>\n",
       "      <td>15.000000</td>\n",
       "      <td>978942.260000</td>\n",
       "      <td>10.000000</td>\n",
       "      <td>3.000000</td>\n",
       "      <td>5.000000</td>\n",
       "      <td>2023.0</td>\n",
       "      <td>12.000000</td>\n",
       "      <td>31.000000</td>\n",
       "      <td>23.000000</td>\n",
       "      <td>59.000000</td>\n",
       "      <td>0.0</td>\n",
       "      <td>1.000000</td>\n",
       "    </tr>\n",
       "    <tr>\n",
       "      <th>std</th>\n",
       "      <td>NaN</td>\n",
       "      <td>4.316969</td>\n",
       "      <td>29097.905016</td>\n",
       "      <td>2.873185</td>\n",
       "      <td>0.816729</td>\n",
       "      <td>1.414880</td>\n",
       "      <td>0.0</td>\n",
       "      <td>2.976114</td>\n",
       "      <td>10.039017</td>\n",
       "      <td>6.918770</td>\n",
       "      <td>17.318142</td>\n",
       "      <td>0.0</td>\n",
       "      <td>0.600001</td>\n",
       "    </tr>\n",
       "  </tbody>\n",
       "</table>\n",
       "</div>"
      ],
      "text/plain": [
       "                           Timestamp      AccountID         Amount  \\\n",
       "count                         216960  216960.000000  216960.000000   \n",
       "mean   2023-04-27 16:24:59.203539968       7.999908   50090.025108   \n",
       "min              2023-01-01 08:00:00       1.000000      10.510000   \n",
       "25%              2023-02-21 23:59:45       4.000000   25061.242500   \n",
       "50%              2023-04-14 15:59:30       8.000000   50183.980000   \n",
       "75%              2023-05-29 07:59:15      12.000000   75080.460000   \n",
       "max              2023-12-05 23:59:00      15.000000  978942.260000   \n",
       "std                              NaN       4.316969   29097.905016   \n",
       "\n",
       "            Merchant  TransactionType       Location      year          month  \\\n",
       "count  216960.000000    216960.000000  216960.000000  216960.0  216960.000000   \n",
       "mean        5.515104         1.996032       2.996834    2023.0       4.411504   \n",
       "min         1.000000         1.000000       1.000000    2023.0       1.000000   \n",
       "25%         3.000000         1.000000       2.000000    2023.0       2.000000   \n",
       "50%         6.000000         2.000000       3.000000    2023.0       4.000000   \n",
       "75%         8.000000         3.000000       4.000000    2023.0       5.000000   \n",
       "max        10.000000         3.000000       5.000000    2023.0      12.000000   \n",
       "std         2.873185         0.816729       1.414880       0.0       2.976114   \n",
       "\n",
       "                 day           hour         minute    second  Anomaly_Score  \n",
       "count  216960.000000  216960.000000  216960.000000  216960.0  216960.000000  \n",
       "mean       14.261062      11.517699      29.500000       0.0       0.800000  \n",
       "min         1.000000       0.000000       0.000000       0.0      -1.000000  \n",
       "25%         4.000000       6.000000      14.750000       0.0       1.000000  \n",
       "50%        16.000000      12.000000      29.500000       0.0       1.000000  \n",
       "75%        23.000000      18.000000      44.250000       0.0       1.000000  \n",
       "max        31.000000      23.000000      59.000000       0.0       1.000000  \n",
       "std        10.039017       6.918770      17.318142       0.0       0.600001  "
      ]
     },
     "execution_count": 89,
     "metadata": {},
     "output_type": "execute_result"
    }
   ],
   "source": [
    "df.describe()"
   ]
  },
  {
   "cell_type": "code",
   "execution_count": 90,
   "id": "f71faf02",
   "metadata": {},
   "outputs": [],
   "source": [
    "#df[df['Anomaly_Score']==1]"
   ]
  },
  {
   "cell_type": "code",
   "execution_count": 91,
   "id": "37505eb4",
   "metadata": {},
   "outputs": [
    {
     "data": {
      "text/html": [
       "<div>\n",
       "<style scoped>\n",
       "    .dataframe tbody tr th:only-of-type {\n",
       "        vertical-align: middle;\n",
       "    }\n",
       "\n",
       "    .dataframe tbody tr th {\n",
       "        vertical-align: top;\n",
       "    }\n",
       "\n",
       "    .dataframe thead th {\n",
       "        text-align: right;\n",
       "    }\n",
       "</style>\n",
       "<table border=\"1\" class=\"dataframe\">\n",
       "  <thead>\n",
       "    <tr style=\"text-align: right;\">\n",
       "      <th></th>\n",
       "      <th>Timestamp</th>\n",
       "      <th>AccountID</th>\n",
       "      <th>Amount</th>\n",
       "      <th>Merchant</th>\n",
       "      <th>TransactionType</th>\n",
       "      <th>Location</th>\n",
       "      <th>year</th>\n",
       "      <th>month</th>\n",
       "      <th>day</th>\n",
       "      <th>hour</th>\n",
       "      <th>minute</th>\n",
       "      <th>second</th>\n",
       "      <th>Anomaly_Score</th>\n",
       "    </tr>\n",
       "  </thead>\n",
       "  <tbody>\n",
       "    <tr>\n",
       "      <th>count</th>\n",
       "      <td>195264</td>\n",
       "      <td>195264.000000</td>\n",
       "      <td>195264.000000</td>\n",
       "      <td>195264.000000</td>\n",
       "      <td>195264.000000</td>\n",
       "      <td>195264.000000</td>\n",
       "      <td>195264.0</td>\n",
       "      <td>195264.000000</td>\n",
       "      <td>195264.000000</td>\n",
       "      <td>195264.000000</td>\n",
       "      <td>195264.000000</td>\n",
       "      <td>195264.0</td>\n",
       "      <td>195264.0</td>\n",
       "    </tr>\n",
       "    <tr>\n",
       "      <th>mean</th>\n",
       "      <td>2023-04-20 14:48:37.709255424</td>\n",
       "      <td>8.068712</td>\n",
       "      <td>49352.345637</td>\n",
       "      <td>5.504153</td>\n",
       "      <td>1.997475</td>\n",
       "      <td>2.981405</td>\n",
       "      <td>2023.0</td>\n",
       "      <td>4.166057</td>\n",
       "      <td>14.690020</td>\n",
       "      <td>11.344687</td>\n",
       "      <td>29.540176</td>\n",
       "      <td>0.0</td>\n",
       "      <td>1.0</td>\n",
       "    </tr>\n",
       "    <tr>\n",
       "      <th>min</th>\n",
       "      <td>2023-01-01 08:02:00</td>\n",
       "      <td>1.000000</td>\n",
       "      <td>10.510000</td>\n",
       "      <td>1.000000</td>\n",
       "      <td>1.000000</td>\n",
       "      <td>1.000000</td>\n",
       "      <td>2023.0</td>\n",
       "      <td>1.000000</td>\n",
       "      <td>1.000000</td>\n",
       "      <td>0.000000</td>\n",
       "      <td>0.000000</td>\n",
       "      <td>0.0</td>\n",
       "      <td>1.0</td>\n",
       "    </tr>\n",
       "    <tr>\n",
       "      <th>25%</th>\n",
       "      <td>2023-02-21 16:25:45</td>\n",
       "      <td>5.000000</td>\n",
       "      <td>25418.795000</td>\n",
       "      <td>3.000000</td>\n",
       "      <td>1.000000</td>\n",
       "      <td>2.000000</td>\n",
       "      <td>2023.0</td>\n",
       "      <td>2.000000</td>\n",
       "      <td>4.000000</td>\n",
       "      <td>6.000000</td>\n",
       "      <td>15.000000</td>\n",
       "      <td>0.0</td>\n",
       "      <td>1.0</td>\n",
       "    </tr>\n",
       "    <tr>\n",
       "      <th>50%</th>\n",
       "      <td>2023-04-05 04:30:30</td>\n",
       "      <td>8.000000</td>\n",
       "      <td>49247.885000</td>\n",
       "      <td>6.000000</td>\n",
       "      <td>2.000000</td>\n",
       "      <td>3.000000</td>\n",
       "      <td>2023.0</td>\n",
       "      <td>4.000000</td>\n",
       "      <td>16.000000</td>\n",
       "      <td>11.000000</td>\n",
       "      <td>30.000000</td>\n",
       "      <td>0.0</td>\n",
       "      <td>1.0</td>\n",
       "    </tr>\n",
       "    <tr>\n",
       "      <th>75%</th>\n",
       "      <td>2023-05-24 08:43:15</td>\n",
       "      <td>12.000000</td>\n",
       "      <td>72989.595000</td>\n",
       "      <td>8.000000</td>\n",
       "      <td>3.000000</td>\n",
       "      <td>4.000000</td>\n",
       "      <td>2023.0</td>\n",
       "      <td>5.000000</td>\n",
       "      <td>23.000000</td>\n",
       "      <td>17.000000</td>\n",
       "      <td>44.000000</td>\n",
       "      <td>0.0</td>\n",
       "      <td>1.0</td>\n",
       "    </tr>\n",
       "    <tr>\n",
       "      <th>max</th>\n",
       "      <td>2023-12-05 23:36:00</td>\n",
       "      <td>15.000000</td>\n",
       "      <td>978942.260000</td>\n",
       "      <td>10.000000</td>\n",
       "      <td>3.000000</td>\n",
       "      <td>5.000000</td>\n",
       "      <td>2023.0</td>\n",
       "      <td>12.000000</td>\n",
       "      <td>31.000000</td>\n",
       "      <td>23.000000</td>\n",
       "      <td>59.000000</td>\n",
       "      <td>0.0</td>\n",
       "      <td>1.0</td>\n",
       "    </tr>\n",
       "    <tr>\n",
       "      <th>std</th>\n",
       "      <td>NaN</td>\n",
       "      <td>4.203821</td>\n",
       "      <td>28225.840037</td>\n",
       "      <td>2.781959</td>\n",
       "      <td>0.806717</td>\n",
       "      <td>1.385324</td>\n",
       "      <td>0.0</td>\n",
       "      <td>2.701804</td>\n",
       "      <td>9.836954</td>\n",
       "      <td>6.727166</td>\n",
       "      <td>16.821683</td>\n",
       "      <td>0.0</td>\n",
       "      <td>0.0</td>\n",
       "    </tr>\n",
       "  </tbody>\n",
       "</table>\n",
       "</div>"
      ],
      "text/plain": [
       "                           Timestamp      AccountID         Amount  \\\n",
       "count                         195264  195264.000000  195264.000000   \n",
       "mean   2023-04-20 14:48:37.709255424       8.068712   49352.345637   \n",
       "min              2023-01-01 08:02:00       1.000000      10.510000   \n",
       "25%              2023-02-21 16:25:45       5.000000   25418.795000   \n",
       "50%              2023-04-05 04:30:30       8.000000   49247.885000   \n",
       "75%              2023-05-24 08:43:15      12.000000   72989.595000   \n",
       "max              2023-12-05 23:36:00      15.000000  978942.260000   \n",
       "std                              NaN       4.203821   28225.840037   \n",
       "\n",
       "            Merchant  TransactionType       Location      year          month  \\\n",
       "count  195264.000000    195264.000000  195264.000000  195264.0  195264.000000   \n",
       "mean        5.504153         1.997475       2.981405    2023.0       4.166057   \n",
       "min         1.000000         1.000000       1.000000    2023.0       1.000000   \n",
       "25%         3.000000         1.000000       2.000000    2023.0       2.000000   \n",
       "50%         6.000000         2.000000       3.000000    2023.0       4.000000   \n",
       "75%         8.000000         3.000000       4.000000    2023.0       5.000000   \n",
       "max        10.000000         3.000000       5.000000    2023.0      12.000000   \n",
       "std         2.781959         0.806717       1.385324       0.0       2.701804   \n",
       "\n",
       "                 day           hour         minute    second  Anomaly_Score  \n",
       "count  195264.000000  195264.000000  195264.000000  195264.0       195264.0  \n",
       "mean       14.690020      11.344687      29.540176       0.0            1.0  \n",
       "min         1.000000       0.000000       0.000000       0.0            1.0  \n",
       "25%         4.000000       6.000000      15.000000       0.0            1.0  \n",
       "50%        16.000000      11.000000      30.000000       0.0            1.0  \n",
       "75%        23.000000      17.000000      44.000000       0.0            1.0  \n",
       "max        31.000000      23.000000      59.000000       0.0            1.0  \n",
       "std         9.836954       6.727166      16.821683       0.0            0.0  "
      ]
     },
     "execution_count": 91,
     "metadata": {},
     "output_type": "execute_result"
    }
   ],
   "source": [
    "df[df['Anomaly_Score']==1].describe()"
   ]
  }
 ],
 "metadata": {
  "kernelspec": {
   "display_name": "Python 3 (ipykernel)",
   "language": "python",
   "name": "python3"
  },
  "language_info": {
   "codemirror_mode": {
    "name": "ipython",
    "version": 3
   },
   "file_extension": ".py",
   "mimetype": "text/x-python",
   "name": "python",
   "nbconvert_exporter": "python",
   "pygments_lexer": "ipython3",
   "version": "3.11.5"
  }
 },
 "nbformat": 4,
 "nbformat_minor": 5
}
